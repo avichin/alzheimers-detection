{
 "cells": [
  {
   "cell_type": "code",
   "execution_count": 1,
   "metadata": {},
   "outputs": [
    {
     "name": "stdout",
     "output_type": "stream",
     "text": [
      "Intel MKL WARNING: Support of Intel(R) Streaming SIMD Extensions 4.2 (Intel(R) SSE4.2) enabled only processors has been deprecated. Intel oneAPI Math Kernel Library 2025.0 will require Intel(R) Advanced Vector Extensions (Intel(R) AVX) instructions.\n",
      "Intel MKL WARNING: Support of Intel(R) Streaming SIMD Extensions 4.2 (Intel(R) SSE4.2) enabled only processors has been deprecated. Intel oneAPI Math Kernel Library 2025.0 will require Intel(R) Advanced Vector Extensions (Intel(R) AVX) instructions.\n"
     ]
    },
    {
     "name": "stderr",
     "output_type": "stream",
     "text": [
      "2023-10-26 11:07:32.787818: I tensorflow/core/platform/cpu_feature_guard.cc:182] This TensorFlow binary is optimized to use available CPU instructions in performance-critical operations.\n",
      "To enable the following instructions: SSE4.1 SSE4.2, in other operations, rebuild TensorFlow with the appropriate compiler flags.\n"
     ]
    }
   ],
   "source": [
    "import pydicom as dicom\n",
    "import numpy as np\n",
    "from matplotlib import pyplot as plt\n",
    "import pandas as pd\n",
    "import seaborn as sns  # for nicer plots\n",
    "sns.set(style=\"darkgrid\")  # default style\n",
    "\n",
    "import tensorflow as tf\n",
    "from tensorflow import keras\n",
    "from keras import metrics\n",
    "tf.get_logger().setLevel('INFO')"
   ]
  },
  {
   "cell_type": "code",
   "execution_count": 2,
   "metadata": {},
   "outputs": [],
   "source": [
    "import os \n",
    "cn_path = '/Users/adelinechin/207/CN2'\n",
    "cn_path_list = os.listdir(cn_path)\n",
    "cn_list = []\n",
    "for path in cn_path_list:\n",
    "    ds = dicom.dcmread(cn_path + '/' + path, force=True)\n",
    "    try:\n",
    "        # Dicom to pixel array\n",
    "        pixel_array = ds.pixel_array.astype(float)\n",
    "        \n",
    "    except AttributeError:\n",
    "        continue\n",
    "    cn_list.append(pixel_array)"
   ]
  },
  {
   "cell_type": "code",
   "execution_count": 3,
   "metadata": {},
   "outputs": [],
   "source": [
    "ad_path = '/Users/adelinechin/207/AD2'\n",
    "ad_path_list = os.listdir(ad_path)\n",
    "ad_list = []\n",
    "for path in ad_path_list:\n",
    "    ds = dicom.dcmread(ad_path + '/' + path, force=True)\n",
    "    try:\n",
    "        # Dicom to pixel array\n",
    "        pixel_array = ds.pixel_array.astype(float)\n",
    "    except AttributeError:\n",
    "        continue\n",
    "    # Dicom to pixel array\n",
    "    ad_list.append(pixel_array)"
   ]
  },
  {
   "cell_type": "code",
   "execution_count": 4,
   "metadata": {},
   "outputs": [],
   "source": [
    "data = cn_list+ ad_list\n",
    "label_names = ['cn', 'ad']\n",
    "labels = [0]*len(cn_list)\n",
    "labels.extend([1]*len(ad_list))"
   ]
  },
  {
   "cell_type": "code",
   "execution_count": null,
   "metadata": {},
   "outputs": [],
   "source": [
    "print(len(data))\n",
    "print(len(labels))"
   ]
  },
  {
   "cell_type": "code",
   "execution_count": 9,
   "metadata": {},
   "outputs": [],
   "source": [
    "indices = []\n",
    "for i, elm in enumerate(data):\n",
    "    if elm.shape != (256, 228):\n",
    "        data = data[:i] + data[i+1:]\n",
    "        labels = labels[:i] + labels[i+1:]\n",
    "    else:\n",
    "        indices.append(i)"
   ]
  },
  {
   "cell_type": "code",
   "execution_count": 10,
   "metadata": {},
   "outputs": [
    {
     "name": "stdout",
     "output_type": "stream",
     "text": [
      "1409\n",
      "1409\n"
     ]
    }
   ],
   "source": [
    "print(len(data))\n",
    "print(len(labels))"
   ]
  },
  {
   "cell_type": "code",
   "execution_count": 11,
   "metadata": {},
   "outputs": [
    {
     "name": "stdout",
     "output_type": "stream",
     "text": [
      "[2, 5, 7, 9, 10, 11, 12, 14, 16, 17, 19, 22, 24, 29, 31, 33, 34, 36, 38, 41, 42, 43, 44, 45, 48, 51, 52, 54, 55, 56, 60, 65, 72, 73, 74, 75, 76, 81, 82, 83, 87, 89, 92, 93, 94, 96, 97, 98, 99, 101, 102, 103, 106, 107, 108, 109, 110, 111, 112, 114, 117, 118, 121, 126, 128, 129, 136, 137, 138, 139, 141, 145, 147, 148, 150, 151, 152, 153, 154, 157, 160, 162, 163, 167, 173, 180, 181, 182, 183, 185, 187, 188, 189, 190, 194, 195, 197, 199, 200, 203, 207, 208, 209, 211, 216, 218, 219, 221, 222, 223, 226, 227, 228, 229, 230, 232, 234, 236, 239, 240, 242, 244, 245, 247, 249, 250, 252, 255, 256, 261, 262, 263, 268, 271, 274, 275, 277, 280, 281, 282, 286, 287, 289, 297, 299, 300, 301, 302, 303, 306, 308, 309, 311, 313, 315, 317, 322, 324, 325, 327, 328, 329, 330, 331, 333, 336, 337, 341, 342, 343, 344, 347, 349, 353, 356, 360, 361, 362, 365, 367, 372, 373, 375, 377, 378, 380, 382, 383, 384, 386, 389, 390, 392, 395, 396, 397, 398, 399, 401, 404, 405, 406, 407, 408, 415, 416, 420, 422, 424, 425, 426, 429, 431, 432, 437, 440, 441, 443, 446, 447, 449, 451, 455, 460, 461, 464, 465, 467, 468, 469, 470, 471, 472, 474, 477, 479, 480, 484, 485, 492, 493, 494, 496, 499, 503, 505, 506, 507, 513, 515, 518, 521, 522, 524, 527, 530, 531, 534, 536, 539, 540, 541, 543, 544, 545, 546, 547, 549, 557, 558, 559, 563, 568, 569, 572, 574, 576, 580, 581, 583, 584, 585, 590, 591, 592, 595, 598, 599, 600, 601, 603, 604, 605, 612, 613, 615, 618, 621, 624, 626, 628, 630, 631, 633, 634, 638, 639, 640, 641, 643, 645, 646, 649, 651, 652, 654, 655, 657, 658, 660, 663, 665, 666, 668, 669, 671, 674, 676, 678, 680, 681, 682, 683, 686, 687, 688, 690, 692, 693, 699, 700, 701, 702, 704, 707, 708, 709, 712, 713, 717, 718, 719, 721, 723, 725, 726, 729, 730, 731, 733, 735, 737, 738, 741, 743, 745, 746, 747, 748, 752, 756, 759, 761, 763, 764, 766, 768, 770, 771, 775, 776, 777, 778, 779, 781, 782, 783, 785, 786, 788, 789, 790, 794, 796, 797, 798, 799, 800, 803, 804, 805, 806, 808, 810, 811, 812, 815, 816, 817, 818, 819, 820, 826, 831, 832, 834, 837, 838, 840, 842, 845, 846, 848, 850, 851, 852, 855, 856, 857, 860, 861, 862, 865, 870, 873, 877, 878, 880, 881, 884, 885, 886, 889, 892, 893, 895, 896, 898, 899, 901, 903, 906, 907, 909, 910, 911, 914, 915, 916, 918, 923, 925, 926, 930, 931, 934, 938, 940, 941, 942, 944, 945, 946, 947, 948, 950, 952, 953, 955, 956, 958, 959, 960, 962, 963, 964, 965, 967, 970, 974, 975, 978, 979, 980, 981, 983, 985, 989, 990, 991, 992, 995, 998, 1001, 1003, 1004, 1005, 1007, 1008, 1009, 1013, 1014, 1016, 1017, 1018, 1020, 1022, 1024, 1025, 1027, 1031, 1035, 1036, 1037, 1039, 1041, 1045, 1046, 1048, 1050, 1051, 1054, 1057, 1058, 1059, 1060, 1063, 1065, 1066, 1074, 1077, 1078, 1079, 1080, 1081, 1082, 1084, 1085, 1088, 1090, 1091, 1092, 1094, 1095, 1098, 1100, 1103, 1104, 1106, 1107, 1110, 1111, 1112, 1113, 1115, 1116, 1121, 1123, 1126, 1129, 1132, 1133, 1137, 1138, 1139, 1140, 1142, 1143, 1144, 1145, 1148, 1151, 1152, 1153, 1154, 1155, 1157, 1158, 1161, 1163, 1164, 1170, 1182, 1183, 1184, 1185, 1186, 1188, 1189, 1191, 1192, 1196, 1197, 1198, 1202, 1204, 1205, 1207, 1208, 1216, 1220, 1224, 1225, 1227, 1229, 1230, 1232, 1236, 1237, 1238, 1240, 1242, 1244, 1246, 1247, 1253, 1255, 1256, 1257, 1258, 1261, 1262, 1263, 1264, 1265, 1268, 1269, 1274, 1277, 1280, 1285, 1287, 1289, 1290, 1291, 1294, 1296, 1309, 1310, 1311, 1312, 1315, 1316, 1317, 1318, 1323, 1326, 1328, 1329, 1331, 1332, 1334, 1340, 1341, 1342, 1343, 1346, 1347, 1349, 1350, 1354, 1355, 1366, 1367, 1372, 1373, 1384, 1387, 1391, 1392, 1393, 1395, 1396, 1397, 1404, 1405, 1409, 1413, 1418, 1419, 1420, 1423, 1426, 1427, 1428, 1432, 1433, 1434, 1437, 1439, 1446, 1452, 1453, 1457, 1471, 1472, 1473, 1477, 1484, 1488, 1492, 1493, 1497, 1499, 1501, 1513, 1514, 1515, 1516, 1517, 1519, 1523, 1524, 1530, 1533, 1534, 1535, 1537, 1543, 1544, 1546, 1547, 1552, 1554, 1555, 1559, 1564, 1565, 1566, 1569, 1570, 1577, 1579, 1583, 1584, 1592, 1593, 1594, 1596, 1597, 1600, 1601, 1602, 1603, 1605, 1606, 1608, 1610, 1613, 1615, 1616, 1618, 1619, 1622, 1625, 1628, 1630, 1632, 1633, 1637, 1638, 1640, 1642, 1644, 1645, 1646, 1647, 1649, 1650, 1651, 1652, 1653, 1654, 1655, 1656, 1657, 1664, 1667, 1671, 1672, 1680, 1684, 1686, 1690, 1693, 1695, 1697, 1709, 1710, 1712, 1721, 1723, 1725, 1730, 1731, 1734, 1739, 1740, 1741, 1744, 1747, 1748, 1749, 1753, 1757, 1762, 1763, 1766, 1767, 1770, 1771, 1776, 1778, 1784, 1786, 1787, 1793, 1796, 1798, 1800, 1801, 1802, 1803, 1808, 1809, 1811, 1812, 1814, 1815, 1817, 1818, 1819, 1823, 1827, 1830, 1831, 1836, 1837, 1842, 1843, 1844, 1846, 1848, 1849, 1852, 1853, 1856, 1857, 1863, 1864, 1865, 1866, 1870, 1871, 1873, 1874, 1875, 1876, 1881, 1882, 1885, 1887, 1889, 1890, 1892, 1893, 1895, 1896, 1898, 1899, 1904, 1905, 1906, 1912, 1919, 1924, 1926, 1927, 1931, 1933, 1934, 1938, 1939, 1940, 1941, 1944, 1947, 1949, 1956, 1957, 1959, 1960, 1962, 1963, 1964, 1965, 1967, 1969, 1970, 1971, 1975, 1976, 1977, 1979, 1982, 1983, 1985, 1987, 1991, 1992, 1993, 1994, 1996, 1997, 1998, 1999, 2000, 2001, 2002, 2004, 2005, 2007, 2008, 2009, 2011, 2014, 2015, 2017, 2030, 2033, 2035, 2036, 2039, 2040, 2041, 2042, 2046, 2048, 2049, 2051, 2052, 2056, 2057, 2058, 2061, 2064, 2070, 2071, 2072, 2074, 2076, 2077, 2083, 2084, 2086, 2087, 2089, 2091, 2092, 2096, 2098, 2101, 2104, 2108, 2109, 2115, 2117, 2118, 2119, 2122, 2123, 2124, 2125, 2126, 2128, 2130]\n"
     ]
    }
   ],
   "source": [
    "print(indices)"
   ]
  },
  {
   "cell_type": "code",
   "execution_count": 12,
   "metadata": {},
   "outputs": [
    {
     "ename": "IndexError",
     "evalue": "list index out of range",
     "output_type": "error",
     "traceback": [
      "\u001b[0;31m---------------------------------------------------------------------------\u001b[0m",
      "\u001b[0;31mIndexError\u001b[0m                                Traceback (most recent call last)",
      "\u001b[1;32m/Users/adelinechin/207/prelim_results.ipynb Cell 9\u001b[0m line \u001b[0;36m4\n\u001b[1;32m      <a href='vscode-notebook-cell:/Users/adelinechin/207/prelim_results.ipynb#X22sZmlsZQ%3D%3D?line=1'>2</a>\u001b[0m new_labels \u001b[39m=\u001b[39m []\n\u001b[1;32m      <a href='vscode-notebook-cell:/Users/adelinechin/207/prelim_results.ipynb#X22sZmlsZQ%3D%3D?line=2'>3</a>\u001b[0m \u001b[39mfor\u001b[39;00m i \u001b[39min\u001b[39;00m indices:\n\u001b[0;32m----> <a href='vscode-notebook-cell:/Users/adelinechin/207/prelim_results.ipynb#X22sZmlsZQ%3D%3D?line=3'>4</a>\u001b[0m     new_data\u001b[39m.\u001b[39mappend(data[i])\n\u001b[1;32m      <a href='vscode-notebook-cell:/Users/adelinechin/207/prelim_results.ipynb#X22sZmlsZQ%3D%3D?line=4'>5</a>\u001b[0m     new_labels\u001b[39m.\u001b[39mappend(labels[i])\n",
      "\u001b[0;31mIndexError\u001b[0m: list index out of range"
     ]
    }
   ],
   "source": [
    "new_data = []\n",
    "new_labels = []\n",
    "for i in indices:\n",
    "    new_data.append(data[i])\n",
    "    new_labels.append(labels[i])"
   ]
  },
  {
   "cell_type": "code",
   "execution_count": null,
   "metadata": {},
   "outputs": [],
   "source": []
  },
  {
   "cell_type": "code",
   "execution_count": 15,
   "metadata": {},
   "outputs": [
    {
     "ename": "ValueError",
     "evalue": "all the input array dimensions for the concatenation axis must match exactly, but along dimension 1, the array at index 0 has size 256 and the array at index 1 has size 228",
     "output_type": "error",
     "traceback": [
      "\u001b[0;31m---------------------------------------------------------------------------\u001b[0m",
      "\u001b[0;31mValueError\u001b[0m                                Traceback (most recent call last)",
      "\u001b[1;32m/Users/adelinechin/207/prelim_results.ipynb Cell 11\u001b[0m line \u001b[0;36m1\n\u001b[0;32m----> <a href='vscode-notebook-cell:/Users/adelinechin/207/prelim_results.ipynb#X10sZmlsZQ%3D%3D?line=0'>1</a>\u001b[0m dcm_data \u001b[39m=\u001b[39m np\u001b[39m.\u001b[39;49mdstack(new_data)\n\u001b[1;32m      <a href='vscode-notebook-cell:/Users/adelinechin/207/prelim_results.ipynb#X10sZmlsZQ%3D%3D?line=1'>2</a>\u001b[0m dcm_data \u001b[39m=\u001b[39m np\u001b[39m.\u001b[39mrollaxis(dcm_data,\u001b[39m-\u001b[39m\u001b[39m1\u001b[39m)\n\u001b[1;32m      <a href='vscode-notebook-cell:/Users/adelinechin/207/prelim_results.ipynb#X10sZmlsZQ%3D%3D?line=2'>3</a>\u001b[0m \u001b[39mprint\u001b[39m(dcm_data\u001b[39m.\u001b[39mshape)\n",
      "File \u001b[0;32m<__array_function__ internals>:180\u001b[0m, in \u001b[0;36mdstack\u001b[0;34m(*args, **kwargs)\u001b[0m\n",
      "File \u001b[0;32m~/PATH/envs/tf/lib/python3.11/site-packages/numpy/lib/shape_base.py:723\u001b[0m, in \u001b[0;36mdstack\u001b[0;34m(tup)\u001b[0m\n\u001b[1;32m    721\u001b[0m \u001b[39mif\u001b[39;00m \u001b[39mnot\u001b[39;00m \u001b[39misinstance\u001b[39m(arrs, \u001b[39mlist\u001b[39m):\n\u001b[1;32m    722\u001b[0m     arrs \u001b[39m=\u001b[39m [arrs]\n\u001b[0;32m--> 723\u001b[0m \u001b[39mreturn\u001b[39;00m _nx\u001b[39m.\u001b[39;49mconcatenate(arrs, \u001b[39m2\u001b[39;49m)\n",
      "File \u001b[0;32m<__array_function__ internals>:180\u001b[0m, in \u001b[0;36mconcatenate\u001b[0;34m(*args, **kwargs)\u001b[0m\n",
      "\u001b[0;31mValueError\u001b[0m: all the input array dimensions for the concatenation axis must match exactly, but along dimension 1, the array at index 0 has size 256 and the array at index 1 has size 228"
     ]
    }
   ],
   "source": [
    "dcm_data = np.dstack(new_data)\n",
    "dcm_data = np.rollaxis(dcm_data,-1)\n",
    "print(dcm_data.shape)"
   ]
  },
  {
   "cell_type": "code",
   "execution_count": 8,
   "metadata": {},
   "outputs": [
    {
     "ename": "IndexError",
     "evalue": "list index out of range",
     "output_type": "error",
     "traceback": [
      "\u001b[0;31m---------------------------------------------------------------------------\u001b[0m",
      "\u001b[0;31mIndexError\u001b[0m                                Traceback (most recent call last)",
      "\u001b[1;32m/Users/adelinechin/207/prelim_results.ipynb Cell 9\u001b[0m line \u001b[0;36m8\n\u001b[1;32m      <a href='vscode-notebook-cell:/Users/adelinechin/207/prelim_results.ipynb#X61sZmlsZQ%3D%3D?line=5'>6</a>\u001b[0m         labels \u001b[39m=\u001b[39m labels[:i] \u001b[39m+\u001b[39m labels[i\u001b[39m+\u001b[39m\u001b[39m1\u001b[39m:]\n\u001b[1;32m      <a href='vscode-notebook-cell:/Users/adelinechin/207/prelim_results.ipynb#X61sZmlsZQ%3D%3D?line=6'>7</a>\u001b[0m         test\u001b[39m.\u001b[39mappend(elm)\n\u001b[0;32m----> <a href='vscode-notebook-cell:/Users/adelinechin/207/prelim_results.ipynb#X61sZmlsZQ%3D%3D?line=7'>8</a>\u001b[0m         test_labels\u001b[39m.\u001b[39mappend(labels[i])\n\u001b[1;32m     <a href='vscode-notebook-cell:/Users/adelinechin/207/prelim_results.ipynb#X61sZmlsZQ%3D%3D?line=10'>11</a>\u001b[0m \u001b[39mprint\u001b[39m(\u001b[39mlen\u001b[39m(data))\n\u001b[1;32m     <a href='vscode-notebook-cell:/Users/adelinechin/207/prelim_results.ipynb#X61sZmlsZQ%3D%3D?line=11'>12</a>\u001b[0m \u001b[39mprint\u001b[39m(\u001b[39mlen\u001b[39m(test))\n",
      "\u001b[0;31mIndexError\u001b[0m: list index out of range"
     ]
    }
   ],
   "source": [
    "test = []\n",
    "test_labels = []\n",
    "for i, elm in enumerate(data):\n",
    "    if elm.shape != data[0].shape:\n",
    "        data = data[:i] + data[i+1:]\n",
    "        labels = labels[:i] + labels[i+1:]\n",
    "        test.append(elm)\n",
    "        test_labels.append(labels[i])\n",
    "        \n",
    "\n",
    "print(len(data))\n",
    "print(len(test))"
   ]
  },
  {
   "cell_type": "code",
   "execution_count": null,
   "metadata": {},
   "outputs": [],
   "source": [
    "dcm_data = np.dstack(data)\n",
    "dcm_data = np.rollaxis(dcm_data,-1)\n",
    "print(dcm_data.shape)"
   ]
  },
  {
   "cell_type": "code",
   "execution_count": null,
   "metadata": {},
   "outputs": [],
   "source": [
    "print(len(data))\n",
    "print(len(labels))"
   ]
  },
  {
   "cell_type": "code",
   "execution_count": null,
   "metadata": {},
   "outputs": [],
   "source": [
    "data = np.asarray(data)\n",
    "labels = np.asarray(labels).astype(int)\n",
    "np.random.seed(0)\n",
    "indices = np.arange(data.shape[0])\n",
    "shuffled_indices = np.random.permutation(indices)\n",
    "data = data[shuffled_indices]\n",
    "labels = labels[shuffled_indices]"
   ]
  },
  {
   "cell_type": "code",
   "execution_count": null,
   "metadata": {},
   "outputs": [],
   "source": [
    "def build_model(learning_rate=0.01):\n",
    "  \"\"\"Build a multi-class logistic regression model using Keras.\n",
    "\n",
    "  Args:\n",
    "    n_classes: Number of classes in the dataset\n",
    "    learning_rate: The desired learning rate for SGD.\n",
    "\n",
    "  Returns:\n",
    "    model: A tf.keras model (graph).\n",
    "  \"\"\"\n",
    "  tf.keras.backend.clear_session()\n",
    "  np.random.seed(0)\n",
    "  tf.random.set_seed(0)\n",
    "\n",
    "  model = keras.Sequential()\n",
    "  model.add(keras.layers.Flatten())\n",
    "  model.add(keras.layers.Dense(\n",
    "      units=1,\n",
    "      use_bias=True,\n",
    "      activation=\"sigmoid\"\n",
    "  ))\n",
    "\n",
    "  optimizer = tf.keras.optimizers.SGD(learning_rate=learning_rate)\n",
    "\n",
    "  model.compile(loss=\"binary_crossentropy\",\n",
    "                optimizer=optimizer,\n",
    "                metrics=[metrics.binary_accuracy])\n",
    "  return model"
   ]
  },
  {
   "cell_type": "code",
   "execution_count": null,
   "metadata": {},
   "outputs": [],
   "source": [
    "model = build_model(0.01)\n",
    "\n",
    "history = model.fit(\n",
    "  x = dcm_data,\n",
    "  y = labels,\n",
    "  epochs=5,\n",
    "  batch_size=64,\n",
    "  validation_split=0.1,\n",
    "  verbose=1)\n",
    "\n",
    "history = pd.DataFrame(history.history)\n",
    "display(history)"
   ]
  },
  {
   "cell_type": "code",
   "execution_count": null,
   "metadata": {},
   "outputs": [],
   "source": []
  }
 ],
 "metadata": {
  "kernelspec": {
   "display_name": "tf",
   "language": "python",
   "name": "python3"
  },
  "language_info": {
   "codemirror_mode": {
    "name": "ipython",
    "version": 3
   },
   "file_extension": ".py",
   "mimetype": "text/x-python",
   "name": "python",
   "nbconvert_exporter": "python",
   "pygments_lexer": "ipython3",
   "version": "3.11.5"
  }
 },
 "nbformat": 4,
 "nbformat_minor": 2
}
